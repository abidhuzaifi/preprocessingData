{
  "nbformat": 4,
  "nbformat_minor": 0,
  "metadata": {
    "colab": {
      "name": "Preprocessing.ipynb",
      "provenance": [],
      "include_colab_link": true
    },
    "kernelspec": {
      "name": "python3",
      "display_name": "Python 3"
    },
    "accelerator": "GPU"
  },
  "cells": [
    {
      "cell_type": "markdown",
      "metadata": {
        "id": "view-in-github",
        "colab_type": "text"
      },
      "source": [
        "<a href=\"https://colab.research.google.com/github/abidhuzaifi/preprocessingData/blob/main/Preprocessing.ipynb\" target=\"_parent\"><img src=\"https://colab.research.google.com/assets/colab-badge.svg\" alt=\"Open In Colab\"/></a>"
      ]
    },
    {
      "cell_type": "code",
      "source": [
        "import numpy as np\n",
        "import matplotlib.pyplot as plt\n",
        "import pandas as pd\n",
        "from sklearn.model_selection import train_test_split\n"
      ],
      "metadata": {
        "id": "EjmxPgVZAtT5"
      },
      "execution_count": 51,
      "outputs": []
    },
    {
      "cell_type": "markdown",
      "source": [
        "Numpy merupakan library python digunakan untuk komputasi matriks.\n",
        "Matplotlib merupakan library python untuk presentasi data berupa grafik atau plot.\n",
        "....  "
      ],
      "metadata": {
        "id": "bQb1eKQxBZ2g"
      }
    },
    {
      "cell_type": "code",
      "source": [
        "dataset = pd.read_csv(\"Data.csv\", sep=\";\")\n",
        "x = dataset.iloc[:, :-1].values\n",
        "y = dataset.iloc[:, -1].values"
      ],
      "metadata": {
        "id": "RBtCa12HDZRk"
      },
      "execution_count": 33,
      "outputs": []
    },
    {
      "cell_type": "code",
      "source": [
        "print(x[:5])"
      ],
      "metadata": {
        "colab": {
          "base_uri": "https://localhost:8080/"
        },
        "id": "ydZuvU0SI3df",
        "outputId": "636116ea-a0fd-4610-bb8f-566759057321"
      },
      "execution_count": 34,
      "outputs": [
        {
          "output_type": "stream",
          "name": "stdout",
          "text": [
            "[['Aceh' 2023 5.75]\n",
            " ['SumateraUtara' 2023 5.24]\n",
            " ['SumateraBarat' 2023 5.9]\n",
            " ['Riau' 2023 4.25]\n",
            " ['Jambi' 2023 4.5]]\n"
          ]
        }
      ]
    },
    {
      "cell_type": "code",
      "source": [
        "print(y[:5])"
      ],
      "metadata": {
        "colab": {
          "base_uri": "https://localhost:8080/"
        },
        "id": "3Hm7dN8_JgK2",
        "outputId": "8f789a05-5df8-47d9-c3d3-cd12648f0d70"
      },
      "execution_count": 35,
      "outputs": [
        {
          "output_type": "stream",
          "name": "stdout",
          "text": [
            "['Sedang' 'Sedang' 'Sedang' 'Sedang' 'Sedang']\n"
          ]
        }
      ]
    },
    {
      "cell_type": "code",
      "source": [
        "from sklearn.compose import ColumnTransformer\n",
        "from sklearn.preprocessing import OneHotEncoder\n",
        "ct = ColumnTransformer(transformers=[('encoder', OneHotEncoder(), [0])], remainder='passthrough')\n",
        "x = np.array(ct.fit_transform(x))"
      ],
      "metadata": {
        "id": "Ioj8OPUpLGqW"
      },
      "execution_count": 36,
      "outputs": []
    },
    {
      "cell_type": "code",
      "source": [
        "print(x)"
      ],
      "metadata": {
        "colab": {
          "base_uri": "https://localhost:8080/"
        },
        "id": "KGWlfLYFLrEx",
        "outputId": "63737f8d-f131-4c28-f3db-56f45da7cf88"
      },
      "execution_count": 37,
      "outputs": [
        {
          "output_type": "stream",
          "name": "stdout",
          "text": [
            "<Compressed Sparse Row sparse matrix of dtype 'float64'\n",
            "\twith 338 stored elements and shape (114, 40)>\n",
            "  Coords\tValues\n",
            "  (0, 0)\t1.0\n",
            "  (0, 38)\t2023.0\n",
            "  (0, 39)\t5.75\n",
            "  (1, 37)\t1.0\n",
            "  (1, 38)\t2023.0\n",
            "  (1, 39)\t5.24\n",
            "  (2, 35)\t1.0\n",
            "  (2, 38)\t2023.0\n",
            "  (2, 39)\t5.9\n",
            "  (3, 29)\t1.0\n",
            "  (3, 38)\t2023.0\n",
            "  (3, 39)\t4.25\n",
            "  (4, 8)\t1.0\n",
            "  (4, 38)\t2023.0\n",
            "  (4, 39)\t4.5\n",
            "  (5, 36)\t1.0\n",
            "  (5, 38)\t2023.0\n",
            "  (5, 39)\t4.53\n",
            "  (6, 4)\t1.0\n",
            "  (6, 38)\t2023.0\n",
            "  (6, 39)\t3.21\n",
            "  (7, 18)\t1.0\n",
            "  (7, 38)\t2023.0\n",
            "  (7, 39)\t4.18\n",
            "  (8, 2)\t1.0\n",
            "  :\t:\n",
            "  (105, 39)\t3.17\n",
            "  (106, 19)\t1.0\n",
            "  (106, 38)\t2025.0\n",
            "  (106, 39)\t5.95\n",
            "  (107, 20)\t1.0\n",
            "  (107, 38)\t2025.0\n",
            "  (107, 39)\t4.16\n",
            "  (108, 24)\t1.0\n",
            "  (108, 38)\t2025.0\n",
            "  (108, 39)\t4.21\n",
            "  (109, 23)\t1.0\n",
            "  (109, 38)\t2025.0\n",
            "  (109, 39)\t6.92\n",
            "  (110, 28)\t1.0\n",
            "  (110, 38)\t2025.0\n",
            "  (110, 39)\t3.55\n",
            "  (111, 26)\t1.0\n",
            "  (111, 38)\t2025.0\n",
            "  (111, 39)\t1.68\n",
            "  (112, 27)\t1.0\n",
            "  (112, 38)\t2025.0\n",
            "  (112, 39)\t4.9\n",
            "  (113, 25)\t1.0\n",
            "  (113, 38)\t2025.0\n",
            "  (113, 39)\t6.61\n"
          ]
        }
      ]
    },
    {
      "cell_type": "code",
      "source": [
        "from sklearn.preprocessing import LabelEncoder\n",
        "le = LabelEncoder()\n",
        "y = le.fit_transform(y)"
      ],
      "metadata": {
        "id": "jgtVFZnIL46H"
      },
      "execution_count": 38,
      "outputs": []
    },
    {
      "cell_type": "code",
      "source": [
        "print(y)"
      ],
      "metadata": {
        "colab": {
          "base_uri": "https://localhost:8080/"
        },
        "id": "ZlIixT6yMSHZ",
        "outputId": "c6dcd766-1e58-4dd8-da06-cd41d2237541"
      },
      "execution_count": 39,
      "outputs": [
        {
          "output_type": "stream",
          "name": "stdout",
          "text": [
            "[1 1 1 1 1 1 0 1 0 2 2 2 1 0 1 2 0 0 0 1 0 0 2 1 2 0 1 0 0 0 2 1 1 0 0 0 0\n",
            " 0 1 1 1 0 1 0 0 1 0 2 2 2 1 0 0 2 0 0 0 1 0 0 1 1 1 0 1 0 0 0 1 1 1 1 0 0\n",
            " 1 2 1 1 1 1 1 0 0 1 1 2 2 2 1 0 0 2 0 0 0 1 0 0 1 0 2 0 1 0 0 0 1 1 1 2 0\n",
            " 0 1 2]\n"
          ]
        }
      ]
    },
    {
      "cell_type": "code",
      "source": [
        "import numpy as np\n",
        "x = np.array(X)\n",
        "y = np.array(y)"
      ],
      "metadata": {
        "id": "1k7Tjs_4PS9b"
      },
      "execution_count": 46,
      "outputs": []
    },
    {
      "cell_type": "code",
      "source": [
        "x_train, x_test, y_train, y_test = train_test_split(\n",
        "    x, y, test_size=0.2, random_state=1\n",
        ")\n"
      ],
      "metadata": {
        "id": "RmZ6F36WVOGF"
      },
      "execution_count": 52,
      "outputs": []
    },
    {
      "cell_type": "code",
      "source": [
        "print(\"Train:\", x_train.shape, y_train.shape)\n",
        "\n"
      ],
      "metadata": {
        "colab": {
          "base_uri": "https://localhost:8080/"
        },
        "id": "ABYgXD6jVS7_",
        "outputId": "b509a402-0715-4d48-923c-5ac00cb3c5a7"
      },
      "execution_count": 56,
      "outputs": [
        {
          "output_type": "stream",
          "name": "stdout",
          "text": [
            "Train: (91, 3) (91,)\n"
          ]
        }
      ]
    },
    {
      "cell_type": "code",
      "source": [
        "print(\"Test:\", x_test.shape, y_test.shape)"
      ],
      "metadata": {
        "colab": {
          "base_uri": "https://localhost:8080/"
        },
        "id": "Qx808PoyVYJ2",
        "outputId": "a6ece34c-954d-4705-8adf-08bc9ea938d5"
      },
      "execution_count": 57,
      "outputs": [
        {
          "output_type": "stream",
          "name": "stdout",
          "text": [
            "Test: (23, 3) (23,)\n"
          ]
        }
      ]
    },
    {
      "cell_type": "code",
      "source": [
        "from sklearn.preprocessing import StandardScaler\n",
        "\n",
        "sc = StandardScaler()\n",
        "\n",
        "# misal kolom numerik mulai index 1\n",
        "x_train[:, 1:3] = sc.fit_transform(x_train[:, 1:3])\n",
        "x_test[:, 1:3] = sc.transform(x_test[:, 1:3])\n",
        "\n"
      ],
      "metadata": {
        "id": "RmVINYzqYYpq"
      },
      "execution_count": 63,
      "outputs": []
    },
    {
      "cell_type": "code",
      "source": [
        "print(\"x_train shape:\", x_train.shape)"
      ],
      "metadata": {
        "colab": {
          "base_uri": "https://localhost:8080/"
        },
        "id": "lOsKTwG3Y_kg",
        "outputId": "9d9174b6-cf72-42ef-d954-e942eeb28d07"
      },
      "execution_count": 64,
      "outputs": [
        {
          "output_type": "stream",
          "name": "stdout",
          "text": [
            "x_train shape: (91, 3)\n"
          ]
        }
      ]
    },
    {
      "cell_type": "code",
      "source": [
        "print(\"x_test shape:\", x_test.shape)\n"
      ],
      "metadata": {
        "colab": {
          "base_uri": "https://localhost:8080/"
        },
        "id": "1EHcG5i3ZJT7",
        "outputId": "97de6b15-bde0-431f-bb86-f7cf4efd2fff"
      },
      "execution_count": 65,
      "outputs": [
        {
          "output_type": "stream",
          "name": "stdout",
          "text": [
            "x_test shape: (23, 3)\n"
          ]
        }
      ]
    }
  ]
}